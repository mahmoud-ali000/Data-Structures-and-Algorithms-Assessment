{
 "cells": [
  {
   "cell_type": "code",
   "execution_count": 10,
   "metadata": {},
   "outputs": [
    {
     "name": "stdout",
     "output_type": "stream",
     "text": [
      "running time of 10: 0.0\n",
      "running time of 100: 0.0\n",
      "running time of 1000: 0.0\n",
      "running time of 10000: 0.0\n",
      "running time of 100000: 0.0010001659393310547\n",
      "running time of 1000000: 0.0\n",
      "running time of 10000000: 0.00400090217590332\n",
      "running time of 100000000: 0.037998199462890625\n",
      "running time of 1000000000: 1.808539867401123\n",
      "running time of 10000000000: 10.46789836883545\n"
     ]
    }
   ],
   "source": [
    "import time\n",
    "\n",
    "inputs = []\n",
    "for i in range(10):\n",
    "    inputs.append(\n",
    "        ('a'*10**(i+1), 'z', 10**(i+1))\n",
    "    )\n",
    "\n",
    "for input_ in inputs:\n",
    "    start = time.time()\n",
    "    execution = input_[1] in input_[0]\n",
    "    print(f\"running time of {input_[2]}: {time.time()-start}\")"
   ]
  },
  {
   "cell_type": "code",
   "execution_count": null,
   "metadata": {},
   "outputs": [],
   "source": []
  }
 ],
 "metadata": {
  "kernelspec": {
   "display_name": "Python 3",
   "language": "python",
   "name": "python3"
  },
  "language_info": {
   "codemirror_mode": {
    "name": "ipython",
    "version": 3
   },
   "file_extension": ".py",
   "mimetype": "text/x-python",
   "name": "python",
   "nbconvert_exporter": "python",
   "pygments_lexer": "ipython3",
   "version": "3.9.5 (tags/v3.9.5:0a7dcbd, May  3 2021, 17:27:52) [MSC v.1928 64 bit (AMD64)]"
  },
  "orig_nbformat": 4,
  "vscode": {
   "interpreter": {
    "hash": "1b231fd55510270dbc2eaafeacb1ac5de2910453973c3eda2b3f9024c6c2bec4"
   }
  }
 },
 "nbformat": 4,
 "nbformat_minor": 2
}
