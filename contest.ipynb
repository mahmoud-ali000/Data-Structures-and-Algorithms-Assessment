{
 "cells": [
  {
   "cell_type": "code",
   "execution_count": 1,
   "metadata": {},
   "outputs": [
    {
     "data": {
      "text/plain": [
       "True"
      ]
     },
     "execution_count": 1,
     "metadata": {},
     "output_type": "execute_result"
    }
   ],
   "source": [
    "[1,2,3] == [1,2,3]"
   ]
  },
  {
   "cell_type": "code",
   "execution_count": null,
   "metadata": {},
   "outputs": [],
   "source": [
    "class Solution:\n",
    "    def smallestValue(self, n: int) -> int:\n",
    "        prime = []\n",
    "        i = 2\n",
    "        while i <= n:\n",
    "\n",
    "            # check the i itself, if it's prime\n",
    "            j = 2\n",
    "            i_is_prime = True\n",
    "            while j*j <= i:\n",
    "                if i % j == 0:\n",
    "                    i_is_prime = False\n",
    "                    break\n",
    "                j += 1\n",
    "            if i_is_prime:\n",
    "                if n % i == 0:\n",
    "                    prime.append(i)\n",
    "                    n /= i\n",
    "                    continue\n",
    "            i += 1\n",
    "        n = sum(prime)\n",
    "        \n",
    "        j = 2\n",
    "        n_is_prime = True\n",
    "        while j*j <= n:\n",
    "            if n % j == 0:\n",
    "                n_is_prime = False\n",
    "                break\n",
    "            j += 1\n",
    "        if n_is_prime:\n",
    "            return n\n",
    "        else:\n",
    "            return self.smallestValue(n)\n",
    "                     \n",
    "\n",
    "# RecursionError: maximum recursion depth exceeded in comparison\n",
    "#     while i <= n:\n",
    "# Line 5 in smallestValue (Solution.py)\n",
    "#   [Previous line repeated 996 more times]\n",
    "#     return self.smallestValue(n)\n",
    "# Line 33 in smallestValue (Solution.py)\n",
    "#     return self.smallestValue(n)\n",
    "# Line 33 in smallestValue (Solution.py)\n",
    "#     return self.smallestValue(n)\n",
    "# Line 33 in smallestValue (Solution.py)\n",
    "\n",
    "# input=4"
   ]
  },
  {
   "cell_type": "code",
   "execution_count": null,
   "metadata": {},
   "outputs": [],
   "source": [
    "class Solution:\n",
    "    def smallestValue(self, n: int) -> int:\n",
    "        input_ = n\n",
    "        prime = []\n",
    "        i = 2\n",
    "        while i <= n:\n",
    "\n",
    "            # check the i itself, if it's prime\n",
    "            j = 2\n",
    "            i_is_prime = True\n",
    "            while j*j <= i:\n",
    "                if i % j == 0:\n",
    "                    i_is_prime = False\n",
    "                    break\n",
    "                j += 1\n",
    "            if i_is_prime:\n",
    "                if n % i == 0:\n",
    "                    prime.append(i)\n",
    "                    n /= i\n",
    "                    continue\n",
    "            i += 1\n",
    "\n",
    "        n = sum(prime)\n",
    "        if n == input_:\n",
    "            return n\n",
    "        \n",
    "        j = 2\n",
    "        n_is_prime = True\n",
    "        while j*j <= n:\n",
    "            if n % j == 0:\n",
    "                n_is_prime = False\n",
    "                break\n",
    "            j += 1\n",
    "        if n_is_prime:\n",
    "            return n\n",
    "        else:\n",
    "            return self.smallestValue(n)\n",
    "                     \n",
    "                    \n",
    "                "
   ]
  },
  {
   "cell_type": "code",
   "execution_count": 6,
   "metadata": {},
   "outputs": [
    {
     "name": "stdout",
     "output_type": "stream",
     "text": [
      "1\n",
      "2\n",
      "3\n",
      "4\n",
      "6\n"
     ]
    }
   ],
   "source": [
    "a = [1,2,3,4,5]\n",
    "for i in a:\n",
    "    if i == 2:\n",
    "        a.append(6)\n",
    "    if i == 1:\n",
    "        a.pop()\n",
    "    print(i)"
   ]
  },
  {
   "cell_type": "code",
   "execution_count": 8,
   "metadata": {},
   "outputs": [
    {
     "name": "stdout",
     "output_type": "stream",
     "text": [
      "1\n",
      "2\n",
      "4\n",
      "5\n"
     ]
    }
   ],
   "source": [
    "a = [1,2,3,4,5]\n",
    "for i in a:\n",
    "    if i == 2:\n",
    "        a.pop(0)\n",
    "    print(i)"
   ]
  },
  {
   "cell_type": "code",
   "execution_count": 2,
   "metadata": {},
   "outputs": [
    {
     "data": {
      "text/plain": [
       "[1, 2, 3, 4, 5]"
      ]
     },
     "execution_count": 2,
     "metadata": {},
     "output_type": "execute_result"
    }
   ],
   "source": [
    "a"
   ]
  }
 ],
 "metadata": {
  "kernelspec": {
   "display_name": "base",
   "language": "python",
   "name": "python3"
  },
  "language_info": {
   "codemirror_mode": {
    "name": "ipython",
    "version": 3
   },
   "file_extension": ".py",
   "mimetype": "text/x-python",
   "name": "python",
   "nbconvert_exporter": "python",
   "pygments_lexer": "ipython3",
   "version": "3.8.5"
  },
  "orig_nbformat": 4,
  "vscode": {
   "interpreter": {
    "hash": "7bce0f5d1811a44fb9a61832ae739ec1d1b9e067266083b684502aa989272a29"
   }
  }
 },
 "nbformat": 4,
 "nbformat_minor": 2
}
